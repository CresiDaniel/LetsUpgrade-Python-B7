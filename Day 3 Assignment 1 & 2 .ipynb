{
 "cells": [
  {
   "cell_type": "markdown",
   "metadata": {},
   "source": [
    "## Assignment 1"
   ]
  },
  {
   "cell_type": "raw",
   "metadata": {},
   "source": [
    "#Checking Altittude Preogram"
   ]
  },
  {
   "cell_type": "code",
   "execution_count": 12,
   "metadata": {},
   "outputs": [
    {
     "name": "stdout",
     "output_type": "stream",
     "text": [
      "Enter Altittude-1000\n",
      "Safe to Land Plane\n"
     ]
    }
   ],
   "source": [
    "num = input(\"Enter Altittude-\")\n",
    "num = int(num)\n",
    "if num <= 1000:\n",
    "    print(\"Safe to Land Plane\")\n",
    "elif num > 1001 and num <= 5000:\n",
    "    print(\"Bring down to 1000\")\n",
    "elif num > 5000:\n",
    "    print(\"Turn Around\")"
   ]
  },
  {
   "cell_type": "code",
   "execution_count": 13,
   "metadata": {},
   "outputs": [
    {
     "name": "stdout",
     "output_type": "stream",
     "text": [
      "Enter Altittude-2000\n",
      "Bring down to 1000\n"
     ]
    }
   ],
   "source": [
    "num = input(\"Enter Altittude-\")\n",
    "num = int(num)\n",
    "if num <= 1000:\n",
    "    print(\"Safe to Land Plane\")\n",
    "elif num > 1001 and num <= 5000:\n",
    "    print(\"Bring down to 1000\")\n",
    "elif num > 5000:\n",
    "    print(\"Turn Around\")"
   ]
  },
  {
   "cell_type": "code",
   "execution_count": 14,
   "metadata": {},
   "outputs": [
    {
     "name": "stdout",
     "output_type": "stream",
     "text": [
      "Enter Altittude-6000\n",
      "Turn Around\n"
     ]
    }
   ],
   "source": [
    "num = input(\"Enter Altittude-\")\n",
    "num = int(num)\n",
    "if num <= 1000:\n",
    "    print(\"Safe to Land Plane\")\n",
    "elif num > 1001 and num <= 5000:\n",
    "    print(\"Bring down to 1000\")\n",
    "elif num > 5000:\n",
    "    print(\"Turn Around\")"
   ]
  },
  {
   "cell_type": "markdown",
   "metadata": {},
   "source": [
    "# Assignment 2"
   ]
  },
  {
   "cell_type": "raw",
   "metadata": {},
   "source": [
    "#Prime Numbers Program"
   ]
  },
  {
   "cell_type": "code",
   "execution_count": 14,
   "metadata": {},
   "outputs": [
    {
     "name": "stdout",
     "output_type": "stream",
     "text": [
      "3\n",
      "5\n",
      "7\n",
      "9\n",
      "11\n",
      "13\n",
      "15\n",
      "17\n",
      "19\n",
      "21\n",
      "23\n",
      "25\n",
      "27\n",
      "29\n",
      "31\n",
      "33\n",
      "35\n",
      "37\n",
      "39\n",
      "41\n",
      "43\n",
      "45\n",
      "47\n",
      "49\n",
      "51\n",
      "53\n",
      "55\n",
      "57\n",
      "59\n",
      "61\n",
      "63\n",
      "65\n",
      "67\n",
      "69\n",
      "71\n",
      "73\n",
      "75\n",
      "77\n",
      "79\n",
      "81\n",
      "83\n",
      "85\n",
      "87\n",
      "89\n",
      "91\n",
      "93\n",
      "95\n",
      "97\n",
      "99\n",
      "101\n",
      "103\n",
      "105\n",
      "107\n",
      "109\n",
      "111\n",
      "113\n",
      "115\n",
      "117\n",
      "119\n",
      "121\n",
      "123\n",
      "125\n",
      "127\n",
      "129\n",
      "131\n",
      "133\n",
      "135\n",
      "137\n",
      "139\n",
      "141\n",
      "143\n",
      "145\n",
      "147\n",
      "149\n",
      "151\n",
      "153\n",
      "155\n",
      "157\n",
      "159\n",
      "161\n",
      "163\n",
      "165\n",
      "167\n",
      "169\n",
      "171\n",
      "173\n",
      "175\n",
      "177\n",
      "179\n",
      "181\n",
      "183\n",
      "185\n",
      "187\n",
      "189\n",
      "191\n",
      "193\n",
      "195\n",
      "197\n",
      "199\n"
     ]
    }
   ],
   "source": [
    "for num in range(1, 201):\n",
    "    for i in range(2, num):\n",
    "        if num % i == 0:\n",
    "            break\n",
    "        else:\n",
    "            print(num)\n",
    "            break"
   ]
  },
  {
   "cell_type": "code",
   "execution_count": null,
   "metadata": {},
   "outputs": [],
   "source": []
  }
 ],
 "metadata": {
  "kernelspec": {
   "display_name": "Python 3",
   "language": "python",
   "name": "python3"
  },
  "language_info": {
   "codemirror_mode": {
    "name": "ipython",
    "version": 3
   },
   "file_extension": ".py",
   "mimetype": "text/x-python",
   "name": "python",
   "nbconvert_exporter": "python",
   "pygments_lexer": "ipython3",
   "version": "3.7.6"
  }
 },
 "nbformat": 4,
 "nbformat_minor": 4
}
